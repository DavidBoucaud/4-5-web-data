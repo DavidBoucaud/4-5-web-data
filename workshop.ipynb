{
 "nbformat": 4,
 "nbformat_minor": 2,
 "metadata": {
  "language_info": {
   "name": "python",
   "codemirror_mode": {
    "name": "ipython",
    "version": 3
   },
   "version": "3.7.4-final"
  },
  "orig_nbformat": 2,
  "file_extension": ".py",
  "mimetype": "text/x-python",
  "name": "python",
  "npconvert_exporter": "python",
  "pygments_lexer": "ipython3",
  "version": 3,
  "kernelspec": {
   "name": "python3",
   "display_name": "Python 3"
  }
 },
 "cells": [
  {
   "cell_type": "markdown",
   "metadata": {},
   "source": [
    "# 1. Twitch API data\n",
    "\n",
    "The URL `https://wind-bow.glitch.me/twitch-api/channels/{CHANNEL_NAME}` is an API from twitch to get data from twitch channels.\n",
    "\n",
    "Get the data from the following channels:\n",
    "\n",
    "```\n",
    "[\"ESL_SC2\", \"OgamingSC2\", \"cretetion\", \"freecodecamp\", \n",
    "    \"storbeck\", \"habathcx\", \"RobotCaleb\", \"noobs2ninjas\",\n",
    "    \"ninja\", \"shroud\", \"Dakotaz\", \"esltv_cs\", \"pokimane\", \n",
    "    \"tsm_bjergsen\", \"boxbox\", \"wtcn\", \"a_seagull\",\n",
    "    \"kinggothalion\", \"amazhs\", \"jahrein\", \"thenadeshot\", \n",
    "    \"sivhd\", \"kingrichard\"]\n",
    "```\n",
    "\n",
    "To make into a dataframe that looks like this:\n",
    "\n",
    "![](twitch.png)"
   ]
  },
  {
   "cell_type": "markdown",
   "metadata": {},
   "source": [
    "# 2. App Store Reviews\n",
    "\n",
    "The Apple app store has a `GET` API to get reviews on apps. The URL is:\n",
    "\n",
    "```\n",
    "https://itunes.apple.com/{COUNTRY_CODE}/rss/customerreviews/id={APP_ID_HERE}/page={PAGE_NUMBER}/sortby=mostrecent/json\n",
    "```\n",
    "\n",
    "Note that you need to provide:\n",
    "\n",
    "- The country code (eg. `'us'`, `'gb'`, `'ca'`, `'au'`) \n",
    "\n",
    "- The app ID. This can be found in the web page for the app right after `id`. For instance, Candy Crush's US webpage is:\n",
    "\n",
    "`https://apps.apple.com/us/app/candy-crush-saga/id553834731`\n",
    "\n",
    "So here the ID would be `553834731`.\n",
    "\n",
    "- The \"Page Number\". The request responds with multiple pages of data, but sends them one at a time. So you can cycle through the data pages for any app on any country.\n",
    "\n",
    "### 2.1 English app reviews\n",
    "\n",
    "Get all english reviews you can for Candy Crush, Tinder, the Facebook app and Twitter (you have to get them from all the english-speaking countries you can think of!).\n",
    "\n",
    "### 2.2 Best version\n",
    "\n",
    "For each app, get the version that is the best rated.\n",
    "\n",
    "Make a visualization of the ratings per versions per app to show this.\n",
    "\n",
    "### 2.3 Top words\n",
    "\n",
    "Which word for each app is most common in the 5 star and in the 1-star review's titles?\n",
    "\n",
    "Note: `df.title.str.get_dummies()` is your friend\n",
    "\n",
    "Note: This might create a lot of data! Try to break down your analysis in chunks if it doesn't work."
   ]
  },
  {
   "cell_type": "markdown",
   "metadata": {},
   "source": [
    "# 3 (STRETCH) IMDB scraping\n",
    "\n",
    "IMDB has structured web pages. We can exploit this to scrape movie data.\n",
    "\n",
    "Usinf the following URL:\n",
    "\n",
    "`https://www.imdb.com/search/title/?groups=top_1000&start={PAGE_NUMBER}&ref_=adv_nxt`\n",
    "\n",
    "With the following headers in your `GET` request: `{\"Accept-Language\": \"en-US,en;q=0.5\"}`\n",
    "\n",
    "You can generate a dataframe like this one by cycling over the page numbers in the URL requested:\n",
    "\n",
    "![](IMDB.png)\n",
    "\n",
    "Note that the following  page attribues will be of interest:\n",
    "\n",
    "- `div` with a class of `lister-item mode-advanced`\n",
    "\n",
    "- Various `span` objects within that `div` like `lister-item-year` and `runtime` and `metascore`"
   ]
  },
  {
   "cell_type": "code",
   "execution_count": null,
   "metadata": {},
   "outputs": [],
   "source": []
  },
  {
   "cell_type": "code",
   "execution_count": null,
   "metadata": {},
   "outputs": [],
   "source": []
  },
  {
   "cell_type": "code",
   "execution_count": null,
   "metadata": {},
   "outputs": [],
   "source": []
  },
  {
   "cell_type": "code",
   "execution_count": null,
   "metadata": {},
   "outputs": [],
   "source": []
  }
 ]
}